{
 "cells": [
  {
   "cell_type": "markdown",
   "metadata": {},
   "source": [
    "## NumPy基础\n",
    "\n",
    "本课内容：\n",
    "* 1\\. 创建 NumPy 数组\n",
    "* 2\\. 索引和切片\n",
    "* 3\\. 读取文件\n",
    "* 4\\. 布尔型索引\n",
    "* 5\\. 数组的运算\n",
    "\n",
    "NumPy 是 Numerical Python 的简称，是 Python 科学计算的核心包。其强大的科学计算能力在很多高级包中得到应用。比如，在后续课程中的 pandas 就是基于 NumPy 的一种工具包。\n",
    "\n",
    "** numpy主要特点 **\n",
    "* 使用向量化操作以简化数据处理，包括取子集，过滤，和变形等等。\n",
    "* 高效的数据总结，排序功能。"
   ]
  },
  {
   "cell_type": "markdown",
   "metadata": {},
   "source": [
    "## 1. 创建Numpy数组"
   ]
  },
  {
   "cell_type": "code",
   "execution_count": 1,
   "metadata": {},
   "outputs": [
    {
     "name": "stdout",
     "output_type": "stream",
     "text": [
      "[1 2 3]\n"
     ]
    },
    {
     "data": {
      "text/plain": [
       "numpy.ndarray"
      ]
     },
     "execution_count": 1,
     "metadata": {},
     "output_type": "execute_result"
    }
   ],
   "source": [
    "import numpy as np\n",
    "\n",
    "# 创建一维数组\n",
    "value=[1,2,3]\n",
    "arr1d=np.array(value) #使用np.array函数，从列表创建数组\n",
    "print(arr1d)\n",
    "type(arr1d)"
   ]
  },
  {
   "cell_type": "code",
   "execution_count": 2,
   "metadata": {},
   "outputs": [
    {
     "name": "stdout",
     "output_type": "stream",
     "text": [
      "[['name', 'gender', 'age'], ['Tom', 'Male', '18']]\n",
      "2\n",
      "(2, 3)\n"
     ]
    }
   ],
   "source": [
    "# 创建二维数组\n",
    "value2=[[\"name\",\"gender\",\"age\"],[\"Tom\",\"Male\",\"18\"]]\n",
    "arr2d=np.array(value2)\n",
    "print(value2)\n",
    "value2\n",
    "print(arr2d.ndim) #查看数组arr2d维度\n",
    "print(arr2d.shape) #查看数组行数，列数"
   ]
  },
  {
   "cell_type": "code",
   "execution_count": 4,
   "metadata": {},
   "outputs": [
    {
     "data": {
      "text/plain": [
       "array([[20, 21,  8,  9, 25],\n",
       "       [15, 26, 12,  2, 18],\n",
       "       [19, 10, 24, 12, 25]])"
      ]
     },
     "execution_count": 4,
     "metadata": {},
     "output_type": "execute_result"
    }
   ],
   "source": [
    "#其他快速创建数组的函数\n",
    "np.zeros((3,5))\n",
    "#np.ones(5)\n",
    "#np.empty(5)\n",
    "#np.arange(3,10,3)\n",
    "np.random.randint(1,30,size=(3,5))"
   ]
  },
  {
   "cell_type": "markdown",
   "metadata": {},
   "source": [
    "## 2. 索引和切片\n",
    "  - 选取数组中的元素或者是数据的子集\n",
    "  - 使用[ ]运算符对数进行切片和索引等操作\n",
    "  - 注意：数组切片是原始数组的视图，也就是说数据不会被复制，任何修改都会影响到原有的数组上"
   ]
  },
  {
   "cell_type": "markdown",
   "metadata": {},
   "source": [
    "### 一维数组的索引和切片，与Python列表差不多"
   ]
  },
  {
   "cell_type": "code",
   "execution_count": 5,
   "metadata": {},
   "outputs": [
    {
     "data": {
      "text/plain": [
       "array([0, 1, 2, 3, 4, 5, 6, 7, 8, 9])"
      ]
     },
     "execution_count": 5,
     "metadata": {},
     "output_type": "execute_result"
    }
   ],
   "source": [
    "# 创建一个一维的数组\n",
    "arr = np.arange(10)\n",
    "arr\n"
   ]
  },
  {
   "cell_type": "code",
   "execution_count": 6,
   "metadata": {},
   "outputs": [
    {
     "data": {
      "text/plain": [
       "3"
      ]
     },
     "execution_count": 6,
     "metadata": {},
     "output_type": "execute_result"
    }
   ],
   "source": [
    "# 一维数组的索引\n",
    "arr[3]"
   ]
  },
  {
   "cell_type": "code",
   "execution_count": 7,
   "metadata": {},
   "outputs": [
    {
     "data": {
      "text/plain": [
       "array([3, 4, 5, 6])"
      ]
     },
     "execution_count": 7,
     "metadata": {},
     "output_type": "execute_result"
    }
   ],
   "source": [
    "# 一维数组的切片\n",
    "arr[3:7]"
   ]
  },
  {
   "cell_type": "markdown",
   "metadata": {},
   "source": [
    "### 二维数组"
   ]
  },
  {
   "cell_type": "code",
   "execution_count": 8,
   "metadata": {},
   "outputs": [
    {
     "data": {
      "text/plain": [
       "array([[ 1,  2,  3,  4],\n",
       "       [ 5,  6,  7,  8],\n",
       "       [ 9, 10, 11, 12],\n",
       "       [13, 14, 15, 16]])"
      ]
     },
     "execution_count": 8,
     "metadata": {},
     "output_type": "execute_result"
    }
   ],
   "source": [
    "# 用一维数组来生成二维数组\n",
    "mat = np.arange(1,17)\n",
    "mat.shape = (4, 4)\n",
    "mat"
   ]
  },
  {
   "cell_type": "code",
   "execution_count": 9,
   "metadata": {},
   "outputs": [
    {
     "data": {
      "text/plain": [
       "array([1, 2, 3, 4])"
      ]
     },
     "execution_count": 9,
     "metadata": {},
     "output_type": "execute_result"
    }
   ],
   "source": [
    "# 对于二维数组，每个索引对应的是一个一维数组！\n",
    "mat[0]  # 对应第0行"
   ]
  },
  {
   "cell_type": "code",
   "execution_count": 10,
   "metadata": {},
   "outputs": [
    {
     "data": {
      "text/plain": [
       "array([[ 5,  6,  7,  8],\n",
       "       [ 9, 10, 11, 12]])"
      ]
     },
     "execution_count": 10,
     "metadata": {},
     "output_type": "execute_result"
    }
   ],
   "source": [
    "# 类似于列表切片，查看第二和第三行\n",
    "# ndarray的切片是沿着行方向的\n",
    "# 和列表切片一样，第三行是不包括的\n",
    "mat[1:3] #等价于mat[[1,2]]"
   ]
  },
  {
   "cell_type": "code",
   "execution_count": 11,
   "metadata": {},
   "outputs": [
    {
     "data": {
      "text/plain": [
       "8"
      ]
     },
     "execution_count": 11,
     "metadata": {},
     "output_type": "execute_result"
    }
   ],
   "source": [
    "# 先获取第一行，再查找第三列\n",
    "mat[1][3] "
   ]
  },
  {
   "cell_type": "code",
   "execution_count": 12,
   "metadata": {},
   "outputs": [
    {
     "data": {
      "text/plain": [
       "8"
      ]
     },
     "execution_count": 12,
     "metadata": {},
     "output_type": "execute_result"
    }
   ],
   "source": [
    "# 用一个逗号来隔开行和列的索引\n",
    "mat[1,3]"
   ]
  },
  {
   "cell_type": "markdown",
   "metadata": {},
   "source": [
    "### 索引和切片的混用\n",
    "   - 方括号第一个参数指定要取的行位置，第二个参数指定要取得列位置，中间使用逗号隔开"
   ]
  },
  {
   "cell_type": "code",
   "execution_count": 13,
   "metadata": {},
   "outputs": [
    {
     "data": {
      "text/plain": [
       "array([ 2,  6, 10])"
      ]
     },
     "execution_count": 13,
     "metadata": {},
     "output_type": "execute_result"
    }
   ],
   "source": [
    "# 取出第0行到第2行，第1列\n",
    "mat[0:3, 1]"
   ]
  },
  {
   "cell_type": "code",
   "execution_count": 14,
   "metadata": {},
   "outputs": [
    {
     "data": {
      "text/plain": [
       "array([[11, 12],\n",
       "       [15, 16]])"
      ]
     },
     "execution_count": 14,
     "metadata": {},
     "output_type": "execute_result"
    }
   ],
   "source": [
    "# 可以同时在行和列同时做切片\n",
    "# 取出第1行到最后一行，第2列到第3列\n",
    "mat[2:, 2:]"
   ]
  },
  {
   "cell_type": "markdown",
   "metadata": {},
   "source": [
    "## 3. 读取文件"
   ]
  },
  {
   "cell_type": "code",
   "execution_count": 65,
   "metadata": {},
   "outputs": [
    {
     "name": "stdout",
     "output_type": "stream",
     "text": [
      "[[  7.4     0.7     0.    ...,   0.56    9.4     5.   ]\n",
      " [  7.8     0.88    0.    ...,   0.68    9.8     5.   ]\n",
      " [  7.8     0.76    0.04  ...,   0.65    9.8     5.   ]\n",
      " ..., \n",
      " [  6.3     0.51    0.13  ...,   0.75   11.      6.   ]\n",
      " [  5.9     0.645   0.12  ...,   0.71   10.2     5.   ]\n",
      " [  6.      0.31    0.47  ...,   0.66   11.      6.   ]]\n"
     ]
    }
   ],
   "source": [
    "wine_data=np.genfromtxt('/Users/dengsudden/Documents/python_course/winequality-red.txt',delimiter=';',skip_header=1)\n",
    "print (wine_data)"
   ]
  },
  {
   "cell_type": "code",
   "execution_count": 68,
   "metadata": {},
   "outputs": [
    {
     "data": {
      "text/plain": [
       "(1599, 12)"
      ]
     },
     "execution_count": 68,
     "metadata": {},
     "output_type": "execute_result"
    }
   ],
   "source": [
    "wine_data.dtype\n",
    "wine_data.shape"
   ]
  },
  {
   "cell_type": "code",
   "execution_count": 74,
   "metadata": {},
   "outputs": [
    {
     "name": "stdout",
     "output_type": "stream",
     "text": [
      "[[  3.51   9.4    5.  ]\n",
      " [  3.2    9.8    5.  ]\n",
      " [  3.26   9.8    5.  ]\n",
      " [  3.16   9.8    6.  ]\n",
      " [  3.51   9.4    5.  ]\n",
      " [  3.51   9.4    5.  ]\n",
      " [  3.3    9.4    5.  ]\n",
      " [  3.39  10.     7.  ]\n",
      " [  3.36   9.5    7.  ]\n",
      " [  3.35  10.5    5.  ]]\n"
     ]
    }
   ],
   "source": [
    "wine=wine_data[:10,[8,10,11]] #取wine_data数组前十行的第9，11，12列元素（分别表示红酒PH值，酒精度，质量评分）\n",
    "print (wine)"
   ]
  },
  {
   "cell_type": "markdown",
   "metadata": {},
   "source": [
    "## 4. 布尔型索引    \n",
    "   - 索引：通过指定的行列值来取一个数组的一部分\n",
    "   - 布尔型索引：通过一个布尔型数组(True,False)，来取一个数组（假设是数组A）的一部分\n",
    "   - 当数组A中元素对应位置的布尔型值为True时，我们保留改位置的元素，否则不保留"
   ]
  },
  {
   "cell_type": "code",
   "execution_count": 83,
   "metadata": {},
   "outputs": [
    {
     "name": "stdout",
     "output_type": "stream",
     "text": [
      "[False False False  True False False False  True  True False]\n"
     ]
    },
    {
     "data": {
      "text/plain": [
       "array([[  3.16,   9.8 ,   6.  ],\n",
       "       [  3.39,  10.  ,   7.  ],\n",
       "       [  3.36,   9.5 ,   7.  ]])"
      ]
     },
     "execution_count": 83,
     "metadata": {},
     "output_type": "execute_result"
    }
   ],
   "source": [
    "# 选取红酒质量评分高于5的红酒数据\n",
    "arr5=wine[:,2]>5 #arr5表示wine数组中第3列值大于5的元素的索引位置\n",
    "print(arr5)\n",
    "wine[arr5] #取wine数组中，arr5值为True的元素位置对应的元素\n",
    "wine[wine[:,2]>5] #也可直接这样写"
   ]
  },
  {
   "cell_type": "code",
   "execution_count": 88,
   "metadata": {},
   "outputs": [
    {
     "name": "stdout",
     "output_type": "stream",
     "text": [
      "[False False False False False False False  True False False]\n"
     ]
    },
    {
     "data": {
      "text/plain": [
       "array([[  3.39,  10.  ,   7.  ]])"
      ]
     },
     "execution_count": 88,
     "metadata": {},
     "output_type": "execute_result"
    }
   ],
   "source": [
    "# 选取红酒质量评分大于5且酒精度数大于等于10的红酒数据\n",
    "arr6=(wine[:,2]>5) & (wine[:,1]>=10) #评分大于5且酒精度数大于10的元素对应值为True\n",
    "print(arr6)\n",
    "wine[arr6] #找到评分大于5且酒精度数大于10的元素\n",
    "wine[(wine[:,2]>5)&(wine[:,1]>=10)] #也可直接这样写"
   ]
  },
  {
   "cell_type": "markdown",
   "metadata": {},
   "source": [
    "## 5. 数组的运算\n",
    "   - Numpy数组的运算针对数组中的每一个元素\n",
    "      - Numpy 数组的任何算数运算，都会将运算运用到元素级别。\n",
    "      - 这样的矢量化运算是NumPy 数组的优势， Python列表要实现这一操作就需要编写循环。\n",
    "   - List的运算只针对list，而非list中的元素\n",
    "   - 因此，numpy数组在元素运算方面更高效"
   ]
  },
  {
   "cell_type": "markdown",
   "metadata": {},
   "source": [
    "### 5.1 数组与单个数之间的运算"
   ]
  },
  {
   "cell_type": "code",
   "execution_count": 15,
   "metadata": {},
   "outputs": [
    {
     "data": {
      "text/plain": [
       "array([[0.5, 1. , 1.5, 2. ],\n",
       "       [2.5, 3. , 3.5, 4. ],\n",
       "       [4.5, 5. , 5.5, 6. ],\n",
       "       [6.5, 7. , 7.5, 8. ]])"
      ]
     },
     "execution_count": 15,
     "metadata": {},
     "output_type": "execute_result"
    }
   ],
   "source": [
    "# 每个元素都除以2\n",
    "mat / 2"
   ]
  },
  {
   "cell_type": "code",
   "execution_count": 16,
   "metadata": {},
   "outputs": [
    {
     "data": {
      "text/plain": [
       "array([[1.01, 1.02, 1.03, 1.04],\n",
       "       [1.05, 1.06, 1.07, 1.08],\n",
       "       [1.09, 1.1 , 1.11, 1.12],\n",
       "       [1.13, 1.14, 1.15, 1.16]])"
      ]
     },
     "execution_count": 16,
     "metadata": {},
     "output_type": "execute_result"
    }
   ],
   "source": [
    "(mat + 100) / 100"
   ]
  },
  {
   "cell_type": "code",
   "execution_count": 123,
   "metadata": {},
   "outputs": [
    {
     "name": "stdout",
     "output_type": "stream",
     "text": [
      "[[ 9 15 11  4]\n",
      " [ 5  6 11 10]\n",
      " [ 6 14  6 15]]\n",
      "[[18 30 22  8]\n",
      " [10 12 22 20]\n",
      " [12 28 12 30]]\n",
      "The slowest run took 9.49 times longer than the fastest. This could mean that an intermediate result is being cached.\n",
      "100000 loops, best of 3: 3.3 µs per loop\n",
      "100000 loops, best of 3: 3.39 µs per loop\n",
      "The slowest run took 13.53 times longer than the fastest. This could mean that an intermediate result is being cached.\n",
      "1000000 loops, best of 3: 984 ns per loop\n"
     ]
    }
   ],
   "source": [
    "arr7=np.random.randint(2,17,size=(3,4))\n",
    "print (arr7)\n",
    "print (arr7*2)  #Numpy数组的运算是针对数组中的每一个元素的\n",
    "arr7_list=list(arr7)\n",
    "#print (arr7_list)\n",
    "arr7_list*2   #List的运算只针对list，而非list中的元素\n",
    "%timeit [s*2 for s in arr7_list] #为了使list中的每个元素像numpy数组一样都被运算一次，需要使用列表解析或循环\n",
    "%timeit [s*2 for s in arr7_list] #预估代码执行时间\n",
    "%timeit arr7*2  #numpy数组运算比list运算高效得多！！"
   ]
  },
  {
   "cell_type": "markdown",
   "metadata": {},
   "source": [
    "### 5.2 数组与数组之间的运算\n",
    "- 两个行列数相符的数列可以进行运算\n",
    "- 运算操作将应用到数列中对应的每一个元素"
   ]
  },
  {
   "cell_type": "code",
   "execution_count": 134,
   "metadata": {},
   "outputs": [
    {
     "name": "stdout",
     "output_type": "stream",
     "text": [
      "[[ 1  3  5  7]\n",
      " [ 9 11 13 15]\n",
      " [17 19 21 23]]\n"
     ]
    },
    {
     "data": {
      "text/plain": [
       "array([[ 2,  6, 10, 14],\n",
       "       [18, 22, 26, 30],\n",
       "       [34, 38, 42, 46]])"
      ]
     },
     "execution_count": 134,
     "metadata": {},
     "output_type": "execute_result"
    }
   ],
   "source": [
    "arr8=np.arange(1,25,2).reshape(3,4)\n",
    "#arr8.shape=(3,4)\n",
    "print (arr8)\n",
    "arr8+arr8 \n",
    "np.add(arr8,arr8) #与上一行代码等价"
   ]
  },
  {
   "cell_type": "code",
   "execution_count": 117,
   "metadata": {},
   "outputs": [
    {
     "name": "stdout",
     "output_type": "stream",
     "text": [
      "[[  3.51   9.4    5.  ]\n",
      " [  3.2    9.8    5.  ]\n",
      " [  3.26   9.8    5.  ]\n",
      " [  3.16   9.8    6.  ]\n",
      " [  3.51   9.4    5.  ]\n",
      " [  3.51   9.4    5.  ]\n",
      " [  3.3    9.4    5.  ]\n",
      " [  3.39  10.     7.  ]\n",
      " [  3.36   9.5    7.  ]\n",
      " [  3.35  10.5    5.  ]]\n"
     ]
    },
    {
     "data": {
      "text/plain": [
       "array([[ 0.  ,  0.  ,  0.  ],\n",
       "       [-0.31,  0.4 ,  0.  ],\n",
       "       [-0.25,  0.4 ,  0.  ],\n",
       "       [-0.35,  0.4 ,  1.  ],\n",
       "       [ 0.  ,  0.  ,  0.  ],\n",
       "       [ 0.  ,  0.  ,  0.  ],\n",
       "       [-0.21,  0.  ,  0.  ],\n",
       "       [-0.12,  0.6 ,  2.  ],\n",
       "       [-0.15,  0.1 ,  2.  ],\n",
       "       [-0.16,  1.1 ,  0.  ]])"
      ]
     },
     "execution_count": 117,
     "metadata": {},
     "output_type": "execute_result"
    }
   ],
   "source": [
    "print (wine)\n",
    "wine-wine[0] #将数组wine中的每一行数据与wine的第0行相减（由于两个相减的数组大小不同，这样的运算叫——广播）"
   ]
  },
  {
   "cell_type": "markdown",
   "metadata": {},
   "source": [
    "## 课堂作业\n",
    "   - 给出一组学生姓名，和他们对应的成绩，存储在下方数组中。请计算以下问题：\n",
    "       - 找出不及格的学生姓名（提示：使用布尔型索引）\n",
    "       - 找出最高分、最低分，平均分数\n",
    "       - 将数值成绩转化成字母成绩，大于等于90分为A， 70-89分为B，小于70分为C"
   ]
  },
  {
   "cell_type": "code",
   "execution_count": 150,
   "metadata": {},
   "outputs": [
    {
     "name": "stdout",
     "output_type": "stream",
     "text": [
      "Max Score is 95\n",
      "Min Score is 55\n",
      "Average Score is 78.7\n",
      "成绩的方差为 132.81\n",
      "成绩的标准差为 11.5243221059\n",
      "['A' 'C' 'B' 'C' 'A' 'B' 'C' 'B' 'B' 'B']\n",
      "['A', 'C', 'B', 'C', 'A', 'B', 'C', 'B', 'B', 'B']\n",
      "['A', 'C', 'B', 'C', 'A', 'B', 'C', 'B', 'B', 'B']\n",
      "The slowest run took 7.26 times longer than the fastest. This could mean that an intermediate result is being cached.\n",
      "100000 loops, best of 3: 7.54 µs per loop\n",
      "100000 loops, best of 3: 4.83 µs per loop\n",
      "10000000 loops, best of 3: 35.6 ns per loop\n"
     ]
    }
   ],
   "source": [
    "names = np.array([\"Xiao Ming\",\"Xiao Zhang\",\"Xiao Gang\",\"Xiao Hong\",\"Xiao Pang\",\"Xiao Wu\",\"Xiao Dai\",\n",
    "                  \"Xiao Qian\",\"Xiao Fan\",\"Xiao Wang\"])\n",
    "scores = np.array([ 91,  68,  84,  55,  95,  81,  67,  82,  86,  78])\n",
    "\n",
    "# 不及格学生姓名\n",
    "names[scores<60] #score数组中元素值小于60分的索引位置返回True，然后返回索引位置值为True的names数组的元素值\n",
    "\n",
    "# 最高分／最低分／平均分\n",
    "print ('Max Score is',np.max(scores))\n",
    "print ('Min Score is',np.min(scores))\n",
    "print ('Average Score is',np.mean(scores))\n",
    "print ('成绩的方差为',np.var(scores))\n",
    "print ('成绩的标准差为',np.std(scores))\n",
    "\n",
    "\n",
    "# 数组转化为字母成绩\n",
    "#方法一：np.where嵌套\n",
    "print (np.where(scores>=90,'A',np.where(scores<70,'C','B')))\n",
    "\n",
    "#方法二：列表解析\n",
    "print (['A' if s>=90 else 'C' if s<70 else 'B' for s in scores])\n",
    "\n",
    "#方法三：循环\n",
    "rank=[]\n",
    "for s in scores:\n",
    "    if s>=90:\n",
    "        rank.append('A')\n",
    "    elif s>=70:\n",
    "        rank.append('B')\n",
    "    else:\n",
    "        rank.append('C')\n",
    "\n",
    "print (rank)\n",
    "\n",
    "# 用%timeit评估3中方法的运算速度\n",
    "%timeit np.where(scores>=90,'A',np.where(scores<70,'C','B'))\n",
    "%timeit ['A' if s>=90 else 'C' if s<70 else 'B' for s in scores]\n",
    "%timeit rank=[]\n",
    "for s in scores:\n",
    "    if s>=90:\n",
    "        rank.append('A')\n",
    "    elif s>=70:\n",
    "        rank.append('B')\n",
    "    else:\n",
    "        rank.append('C')\n",
    "# 发现对于小数据量的数组，用循环的方式更高效，对于大数据了的数组，用numpy函数运算更高效"
   ]
  }
 ],
 "metadata": {
  "kernelspec": {
   "display_name": "Python 3",
   "language": "python",
   "name": "python3"
  },
  "language_info": {
   "codemirror_mode": {
    "name": "ipython",
    "version": 3
   },
   "file_extension": ".py",
   "mimetype": "text/x-python",
   "name": "python",
   "nbconvert_exporter": "python",
   "pygments_lexer": "ipython3",
   "version": "3.6.4"
  }
 },
 "nbformat": 4,
 "nbformat_minor": 2
}
